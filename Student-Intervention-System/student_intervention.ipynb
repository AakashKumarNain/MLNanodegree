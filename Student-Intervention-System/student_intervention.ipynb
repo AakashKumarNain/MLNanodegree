{
 "cells": [
  {
   "cell_type": "markdown",
   "metadata": {},
   "source": [
    "# Machine Learning Engineer Nanodegree\n",
    "## Supervised Learning\n",
    "## Project 2: Building a Student Intervention System"
   ]
  },
  {
   "cell_type": "markdown",
   "metadata": {},
   "source": [
    "Welcome to the second project of the Machine Learning Engineer Nanodegree! In this notebook, some template code has already been provided for you, and it will be your job to implement the additional functionality necessary to successfully complete this project. Sections that begin with **'Implementation'** in the header indicate that the following block of code will require additional functionality which you must provide. Instructions will be provided for each section and the specifics of the implementation are marked in the code block with a `'TODO'` statement. Please be sure to read the instructions carefully!\n",
    "\n",
    "In addition to implementing code, there will be questions that you must answer which relate to the project and your implementation. Each section where you will answer a question is preceded by a **'Question X'** header. Carefully read each question and provide thorough answers in the following text boxes that begin with **'Answer:'**. Your project submission will be evaluated based on your answers to each of the questions and the implementation you provide.  \n",
    "\n",
    ">**Note:** Code and Markdown cells can be executed using the **Shift + Enter** keyboard shortcut. In addition, Markdown cells can be edited by typically double-clicking the cell to enter edit mode."
   ]
  },
  {
   "cell_type": "markdown",
   "metadata": {},
   "source": [
    "### Question 1 - Classification vs. Regression\n",
    "*Your goal for this project is to identify students who might need early intervention before they fail to graduate. Which type of supervised learning problem is this, classification or regression? Why?*"
   ]
  },
  {
   "cell_type": "markdown",
   "metadata": {},
   "source": [
    "**Answer: **\n",
    "It is a classification problem as there are only two discrete possible outcomes : Intervention Needed(1) and Intervention not needed(0). \n",
    "\n",
    "![alt text](index.png \"Title\")\n",
    "\n",
    "The above figure shows a binary classification problem having two classes of outcomes represented by two different symbols"
   ]
  },
  {
   "cell_type": "markdown",
   "metadata": {},
   "source": [
    "## Exploring the Data\n",
    "Run the code cell below to load necessary Python libraries and load the student data. Note that the last column from this dataset, `'passed'`, will be our target label (whether the student graduated or didn't graduate). All other columns are features about each student."
   ]
  },
  {
   "cell_type": "code",
   "execution_count": 1,
   "metadata": {
    "collapsed": false
   },
   "outputs": [
    {
     "name": "stdout",
     "output_type": "stream",
     "text": [
      "Student data read successfully!\n"
     ]
    }
   ],
   "source": [
    "# Import libraries\n",
    "import numpy as np\n",
    "import pandas as pd\n",
    "from time import time\n",
    "from sklearn.metrics import f1_score\n",
    "\n",
    "# Read student data\n",
    "student_data = pd.read_csv(\"student-data.csv\")\n",
    "print \"Student data read successfully!\""
   ]
  },
  {
   "cell_type": "markdown",
   "metadata": {},
   "source": [
    "### Implementation: Data Exploration\n",
    "Let's begin by investigating the dataset to determine how many students we have information on, and learn about the graduation rate among these students. In the code cell below, you will need to compute the following:\n",
    "- The total number of students, `n_students`.\n",
    "- The total number of features for each student, `n_features`.\n",
    "- The number of those students who passed, `n_passed`.\n",
    "- The number of those students who failed, `n_failed`.\n",
    "- The graduation rate of the class, `grad_rate`, in percent (%).\n"
   ]
  },
  {
   "cell_type": "code",
   "execution_count": 2,
   "metadata": {
    "collapsed": false
   },
   "outputs": [
    {
     "name": "stdout",
     "output_type": "stream",
     "text": [
      "Total number of students: 395\n",
      "Number of features: 30\n",
      "Number of students who passed: 265\n",
      "Number of students who failed: 130\n",
      "Graduation rate of the class: 67.09%\n"
     ]
    }
   ],
   "source": [
    "# TODO: Calculate number of students\n",
    "n_students = student_data.shape[0]\n",
    "\n",
    "# TODO: Calculate number of features\n",
    "n_features = len(student_data.columns[0:-1])\n",
    "\n",
    "# TODO: Calculate passing students\n",
    "n_passed = len(student_data[student_data.passed == 'yes'])\n",
    "\n",
    "# TODO: Calculate failing students\n",
    "n_failed = len(student_data[student_data.passed == 'no'])\n",
    "\n",
    "# TODO: Calculate graduation rate\n",
    "grad_rate = float(n_passed)/n_students*100\n",
    "\n",
    "# Print the results\n",
    "print \"Total number of students: {}\".format(n_students)\n",
    "print \"Number of features: {}\".format(n_features)\n",
    "print \"Number of students who passed: {}\".format(n_passed)\n",
    "print \"Number of students who failed: {}\".format(n_failed)\n",
    "print \"Graduation rate of the class: {:.2f}%\".format(grad_rate)"
   ]
  },
  {
   "cell_type": "markdown",
   "metadata": {},
   "source": [
    "## Preparing the Data\n",
    "In this section, we will prepare the data for modeling, training and testing.\n",
    "\n",
    "### Identify feature and target columns\n",
    "It is often the case that the data you obtain contains non-numeric features. This can be a problem, as most machine learning algorithms expect numeric data to perform computations with.\n",
    "\n",
    "Run the code cell below to separate the student data into feature and target columns to see if any features are non-numeric."
   ]
  },
  {
   "cell_type": "code",
   "execution_count": 3,
   "metadata": {
    "collapsed": false
   },
   "outputs": [
    {
     "name": "stdout",
     "output_type": "stream",
     "text": [
      "Feature columns:\n",
      "['school', 'sex', 'age', 'address', 'famsize', 'Pstatus', 'Medu', 'Fedu', 'Mjob', 'Fjob', 'reason', 'guardian', 'traveltime', 'studytime', 'failures', 'schoolsup', 'famsup', 'paid', 'activities', 'nursery', 'higher', 'internet', 'romantic', 'famrel', 'freetime', 'goout', 'Dalc', 'Walc', 'health', 'absences']\n",
      "\n",
      "Target column: passed\n",
      "\n",
      "Feature values:\n",
      "  school sex  age address famsize Pstatus  Medu  Fedu     Mjob      Fjob  \\\n",
      "0     GP   F   18       U     GT3       A     4     4  at_home   teacher   \n",
      "1     GP   F   17       U     GT3       T     1     1  at_home     other   \n",
      "2     GP   F   15       U     LE3       T     1     1  at_home     other   \n",
      "3     GP   F   15       U     GT3       T     4     2   health  services   \n",
      "4     GP   F   16       U     GT3       T     3     3    other     other   \n",
      "\n",
      "    ...    higher internet  romantic  famrel  freetime goout Dalc Walc health  \\\n",
      "0   ...       yes       no        no       4         3     4    1    1      3   \n",
      "1   ...       yes      yes        no       5         3     3    1    1      3   \n",
      "2   ...       yes      yes        no       4         3     2    2    3      3   \n",
      "3   ...       yes      yes       yes       3         2     2    1    1      5   \n",
      "4   ...       yes       no        no       4         3     2    1    2      5   \n",
      "\n",
      "  absences  \n",
      "0        6  \n",
      "1        4  \n",
      "2       10  \n",
      "3        2  \n",
      "4        4  \n",
      "\n",
      "[5 rows x 30 columns]\n"
     ]
    }
   ],
   "source": [
    "# Extract feature columns\n",
    "feature_cols = list(student_data.columns[:-1])\n",
    "\n",
    "# Extract target column 'passed'\n",
    "target_col = student_data.columns[-1] \n",
    "\n",
    "# Show the list of columns\n",
    "print \"Feature columns:\\n{}\".format(feature_cols)\n",
    "print \"\\nTarget column: {}\".format(target_col)\n",
    "\n",
    "# Separate the data into feature data and target data (X_all and y_all, respectively)\n",
    "X_all = student_data[feature_cols]\n",
    "y_all = student_data[target_col]\n",
    "\n",
    "# Show the feature information by printing the first five rows\n",
    "print \"\\nFeature values:\"\n",
    "print X_all.head()"
   ]
  },
  {
   "cell_type": "markdown",
   "metadata": {},
   "source": [
    "### Preprocess Feature Columns\n",
    "\n",
    "As you can see, there are several non-numeric columns that need to be converted! Many of them are simply `yes`/`no`, e.g. `internet`. These can be reasonably converted into `1`/`0` (binary) values.\n",
    "\n",
    "Other columns, like `Mjob` and `Fjob`, have more than two values, and are known as _categorical variables_. The recommended way to handle such a column is to create as many columns as possible values (e.g. `Fjob_teacher`, `Fjob_other`, `Fjob_services`, etc.), and assign a `1` to one of them and `0` to all others.\n",
    "\n",
    "These generated columns are sometimes called _dummy variables_, and we will use the [`pandas.get_dummies()`](http://pandas.pydata.org/pandas-docs/stable/generated/pandas.get_dummies.html?highlight=get_dummies#pandas.get_dummies) function to perform this transformation. Run the code cell below to perform the preprocessing routine discussed in this section."
   ]
  },
  {
   "cell_type": "code",
   "execution_count": 4,
   "metadata": {
    "collapsed": false
   },
   "outputs": [
    {
     "name": "stdout",
     "output_type": "stream",
     "text": [
      "Processed feature columns (48 total features):\n",
      "['school_GP', 'school_MS', 'sex_F', 'sex_M', 'age', 'address_R', 'address_U', 'famsize_GT3', 'famsize_LE3', 'Pstatus_A', 'Pstatus_T', 'Medu', 'Fedu', 'Mjob_at_home', 'Mjob_health', 'Mjob_other', 'Mjob_services', 'Mjob_teacher', 'Fjob_at_home', 'Fjob_health', 'Fjob_other', 'Fjob_services', 'Fjob_teacher', 'reason_course', 'reason_home', 'reason_other', 'reason_reputation', 'guardian_father', 'guardian_mother', 'guardian_other', 'traveltime', 'studytime', 'failures', 'schoolsup', 'famsup', 'paid', 'activities', 'nursery', 'higher', 'internet', 'romantic', 'famrel', 'freetime', 'goout', 'Dalc', 'Walc', 'health', 'absences']\n"
     ]
    }
   ],
   "source": [
    "def preprocess_features(X):\n",
    "    ''' Preprocesses the student data and converts non-numeric binary variables into\n",
    "        binary (0/1) variables. Converts categorical variables into dummy variables. '''\n",
    "    \n",
    "    # Initialize new output DataFrame\n",
    "    output = pd.DataFrame(index = X.index)\n",
    "\n",
    "    # Investigate each feature column for the data\n",
    "    for col, col_data in X.iteritems():\n",
    "        \n",
    "        # If data type is non-numeric, replace all yes/no values with 1/0\n",
    "        if col_data.dtype == object:\n",
    "            col_data = col_data.replace(['yes', 'no'], [1, 0])\n",
    "\n",
    "        # If data type is categorical, convert to dummy variables\n",
    "        if col_data.dtype == object:\n",
    "            # Example: 'school' => 'school_GP' and 'school_MS'\n",
    "            col_data = pd.get_dummies(col_data, prefix = col)  \n",
    "        \n",
    "        # Collect the revised columns\n",
    "        output = output.join(col_data)\n",
    "    \n",
    "    return output\n",
    "\n",
    "X_all = preprocess_features(X_all)\n",
    "print \"Processed feature columns ({} total features):\\n{}\".format(len(X_all.columns), list(X_all.columns))"
   ]
  },
  {
   "cell_type": "markdown",
   "metadata": {},
   "source": [
    "### Implementation: Training and Testing Data Split\n",
    "So far, we have converted all _categorical_ features into numeric values. For the next step, we split the data (both features and corresponding labels) into training and test sets. In the following code cell below, you will need to implement the following:\n",
    "- Randomly shuffle and split the data (`X_all`, `y_all`) into training and testing subsets.\n",
    "  - Use 300 training points (approximately 75%) and 95 testing points (approximately 25%).\n",
    "  - Set a `random_state` for the function(s) you use, if provided.\n",
    "  - Store the results in `X_train`, `X_test`, `y_train`, and `y_test`."
   ]
  },
  {
   "cell_type": "code",
   "execution_count": 5,
   "metadata": {
    "collapsed": false
   },
   "outputs": [
    {
     "name": "stdout",
     "output_type": "stream",
     "text": [
      "Training set has 300 samples.\n",
      "Testing set has 95 samples.\n"
     ]
    }
   ],
   "source": [
    "# TODO: Import any additional functionality you may need here\n",
    "from sklearn.cross_validation import train_test_split\n",
    "# TODO: Set the number of training points\n",
    "num_train = 300\n",
    "\n",
    "# Set the number of testing points\n",
    "num_test = X_all.shape[0] - num_train\n",
    "\n",
    "# TODO: Shuffle and split the dataset into the number of training and testing points above\n",
    "def shuffle_and_split_data(X_all, y_all):\n",
    "    random_state = 33\n",
    "    xtrain, xtest, ytrain, ytest = train_test_split(X_all, y_all, test_size=0.2405, random_state = random_state)\n",
    "    return xtrain, xtest, ytrain, ytest\n",
    "\n",
    "xtrain, xtest, ytrain, ytest = shuffle_and_split_data(X_all, y_all)\n",
    "\n",
    "X_train = xtrain\n",
    "X_test = xtest\n",
    "y_train = ytrain\n",
    "y_test = ytest\n",
    "\n",
    "\n",
    "# Show the results of the split\n",
    "print \"Training set has {} samples.\".format(X_train.shape[0])\n",
    "print \"Testing set has {} samples.\".format(X_test.shape[0])"
   ]
  },
  {
   "cell_type": "markdown",
   "metadata": {},
   "source": [
    "## Training and Evaluating Models\n",
    "In this section, you will choose 3 supervised learning models that are appropriate for this problem and available in `scikit-learn`. You will first discuss the reasoning behind choosing these three models by considering what you know about the data and each model's strengths and weaknesses. You will then fit the model to varying sizes of training data (100 data points, 200 data points, and 300 data points) and measure the F<sub>1</sub> score. You will need to produce three tables (one for each model) that shows the training set size, training time, prediction time, F<sub>1</sub> score on the training set, and F<sub>1</sub> score on the testing set.\n",
    "\n",
    "**The following supervised learning models are currently available in** [`scikit-learn`](http://scikit-learn.org/stable/supervised_learning.html) **that you may choose from:**\n",
    "- Gaussian Naive Bayes (GaussianNB)\n",
    "- Decision Trees\n",
    "- Ensemble Methods (Bagging, AdaBoost, Random Forest, Gradient Boosting)\n",
    "- K-Nearest Neighbors (KNeighbors)\n",
    "- Stochastic Gradient Descent (SGDC)\n",
    "- Support Vector Machines (SVM)\n",
    "- Logistic Regression"
   ]
  },
  {
   "cell_type": "markdown",
   "metadata": {},
   "source": [
    "### Question 2 - Model Application\n",
    "*List three supervised learning models that are appropriate for this problem. For each model chosen*\n",
    "- Describe one real-world application in industry where the model can be applied. *(You may need to do a small bit of research for this — give references!)* \n",
    "- What are the strengths of the model; when does it perform well? \n",
    "- What are the weaknesses of the model; when does it perform poorly?\n",
    "- What makes this model a good candidate for the problem, given what you know about the data?"
   ]
  },
  {
   "cell_type": "markdown",
   "metadata": {},
   "source": [
    "**Answer: **\n",
    "The three supervised models that are appropriate for this problem are :\n",
    "-- Logistic Regression\n",
    "-- Support Vector Machines(SVM)\n",
    "-- Ensemble Methods(RandomForest)\n",
    "\n",
    "\n",
    "#### 1) Logistic Regression :  \n",
    "1.1) Logistic Regression can be used to predict for 'Credit Risk Analysis'. It can be used to predict for which    party a person is going to vote for.It can even be used to predict wheter a student will get an                       admission to a college or not based on a number of criteria.   \n",
    "(Sources:https://smartdrill.com/logistic-regression.html ,Quora, Google)\n",
    "      \n",
    "1.2) Advantages of Logistic Regression :\n",
    "* You can use more than one explanatory variable (dependent variable) and those can either be dichotomous,              ordinal, or continuous.\n",
    "* It helps to remove the 'confounding effect'.\n",
    "* It does not need a linear relationship between the dependent and independent variables. Logistic                      regression can handle all sorts of relationships, because it applies a non-linear log transformation to                the predicted odds ratio. \n",
    "* The independent variables do not need to be metric (interval or ratio scaled).\n",
    "* Logistic Regression performs well when features are roughly linear and the problem is likely to be                    linearly separable\n",
    "           \n",
    "1.3) Disadvantages of Logistic Regression :\n",
    "* Binary logistic regression requires the dependent variable to be binary and ordinal logistic regression                requires the dependent variable to be ordinal. \n",
    "* Linearity test is required on a non-binomial dependent variable before including it in the model.\n",
    "* It combines both binomial and normal distribution which can cause problems sometimes.\n",
    "* Logistic Regression performs poorly if the features are highly correlated.\n",
    "           \n",
    "1.4) Logistic Regression can be applied to our data as it can be seen thet the features are not so highly      correlated. Also, the outcome is a binomial distribution   \n",
    "\n"
   ]
  },
  {
   "cell_type": "code",
   "execution_count": 6,
   "metadata": {
    "collapsed": false
   },
   "outputs": [
    {
     "data": {
      "text/html": [
       "<div>\n",
       "<table border=\"1\" class=\"dataframe\">\n",
       "  <thead>\n",
       "    <tr style=\"text-align: right;\">\n",
       "      <th></th>\n",
       "      <th>school_GP</th>\n",
       "      <th>school_MS</th>\n",
       "      <th>sex_F</th>\n",
       "      <th>sex_M</th>\n",
       "      <th>age</th>\n",
       "      <th>address_R</th>\n",
       "      <th>address_U</th>\n",
       "      <th>famsize_GT3</th>\n",
       "      <th>famsize_LE3</th>\n",
       "      <th>Pstatus_A</th>\n",
       "      <th>...</th>\n",
       "      <th>higher</th>\n",
       "      <th>internet</th>\n",
       "      <th>romantic</th>\n",
       "      <th>famrel</th>\n",
       "      <th>freetime</th>\n",
       "      <th>goout</th>\n",
       "      <th>Dalc</th>\n",
       "      <th>Walc</th>\n",
       "      <th>health</th>\n",
       "      <th>absences</th>\n",
       "    </tr>\n",
       "  </thead>\n",
       "  <tbody>\n",
       "    <tr>\n",
       "      <th>school_GP</th>\n",
       "      <td>1.000000</td>\n",
       "      <td>-1.000000</td>\n",
       "      <td>-0.012286</td>\n",
       "      <td>0.012286</td>\n",
       "      <td>-0.377610</td>\n",
       "      <td>-0.279797</td>\n",
       "      <td>0.279797</td>\n",
       "      <td>0.064866</td>\n",
       "      <td>-0.064866</td>\n",
       "      <td>0.045923</td>\n",
       "      <td>...</td>\n",
       "      <td>0.024150</td>\n",
       "      <td>0.133578</td>\n",
       "      <td>-0.060700</td>\n",
       "      <td>0.047926</td>\n",
       "      <td>-0.032988</td>\n",
       "      <td>0.007152</td>\n",
       "      <td>-0.114209</td>\n",
       "      <td>-0.065087</td>\n",
       "      <td>0.042651</td>\n",
       "      <td>0.088480</td>\n",
       "    </tr>\n",
       "    <tr>\n",
       "      <th>school_MS</th>\n",
       "      <td>-1.000000</td>\n",
       "      <td>1.000000</td>\n",
       "      <td>0.012286</td>\n",
       "      <td>-0.012286</td>\n",
       "      <td>0.377610</td>\n",
       "      <td>0.279797</td>\n",
       "      <td>-0.279797</td>\n",
       "      <td>-0.064866</td>\n",
       "      <td>0.064866</td>\n",
       "      <td>-0.045923</td>\n",
       "      <td>...</td>\n",
       "      <td>-0.024150</td>\n",
       "      <td>-0.133578</td>\n",
       "      <td>0.060700</td>\n",
       "      <td>-0.047926</td>\n",
       "      <td>0.032988</td>\n",
       "      <td>-0.007152</td>\n",
       "      <td>0.114209</td>\n",
       "      <td>0.065087</td>\n",
       "      <td>-0.042651</td>\n",
       "      <td>-0.088480</td>\n",
       "    </tr>\n",
       "    <tr>\n",
       "      <th>sex_F</th>\n",
       "      <td>-0.012286</td>\n",
       "      <td>0.012286</td>\n",
       "      <td>1.000000</td>\n",
       "      <td>-1.000000</td>\n",
       "      <td>0.028606</td>\n",
       "      <td>-0.028504</td>\n",
       "      <td>0.028504</td>\n",
       "      <td>0.089862</td>\n",
       "      <td>-0.089862</td>\n",
       "      <td>0.023443</td>\n",
       "      <td>...</td>\n",
       "      <td>0.151056</td>\n",
       "      <td>-0.044113</td>\n",
       "      <td>0.102023</td>\n",
       "      <td>-0.058971</td>\n",
       "      <td>-0.238744</td>\n",
       "      <td>-0.075897</td>\n",
       "      <td>-0.268171</td>\n",
       "      <td>-0.274194</td>\n",
       "      <td>-0.143588</td>\n",
       "      <td>0.066962</td>\n",
       "    </tr>\n",
       "    <tr>\n",
       "      <th>sex_M</th>\n",
       "      <td>0.012286</td>\n",
       "      <td>-0.012286</td>\n",
       "      <td>-1.000000</td>\n",
       "      <td>1.000000</td>\n",
       "      <td>-0.028606</td>\n",
       "      <td>0.028504</td>\n",
       "      <td>-0.028504</td>\n",
       "      <td>-0.089862</td>\n",
       "      <td>0.089862</td>\n",
       "      <td>-0.023443</td>\n",
       "      <td>...</td>\n",
       "      <td>-0.151056</td>\n",
       "      <td>0.044113</td>\n",
       "      <td>-0.102023</td>\n",
       "      <td>0.058971</td>\n",
       "      <td>0.238744</td>\n",
       "      <td>0.075897</td>\n",
       "      <td>0.268171</td>\n",
       "      <td>0.274194</td>\n",
       "      <td>0.143588</td>\n",
       "      <td>-0.066962</td>\n",
       "    </tr>\n",
       "    <tr>\n",
       "      <th>age</th>\n",
       "      <td>-0.377610</td>\n",
       "      <td>0.377610</td>\n",
       "      <td>0.028606</td>\n",
       "      <td>-0.028606</td>\n",
       "      <td>1.000000</td>\n",
       "      <td>0.146722</td>\n",
       "      <td>-0.146722</td>\n",
       "      <td>-0.037847</td>\n",
       "      <td>0.037847</td>\n",
       "      <td>-0.029598</td>\n",
       "      <td>...</td>\n",
       "      <td>-0.209081</td>\n",
       "      <td>-0.112094</td>\n",
       "      <td>0.164669</td>\n",
       "      <td>0.053940</td>\n",
       "      <td>0.016434</td>\n",
       "      <td>0.126964</td>\n",
       "      <td>0.131125</td>\n",
       "      <td>0.117276</td>\n",
       "      <td>-0.062187</td>\n",
       "      <td>0.175230</td>\n",
       "    </tr>\n",
       "  </tbody>\n",
       "</table>\n",
       "<p>5 rows × 48 columns</p>\n",
       "</div>"
      ],
      "text/plain": [
       "           school_GP  school_MS     sex_F     sex_M       age  address_R  \\\n",
       "school_GP   1.000000  -1.000000 -0.012286  0.012286 -0.377610  -0.279797   \n",
       "school_MS  -1.000000   1.000000  0.012286 -0.012286  0.377610   0.279797   \n",
       "sex_F      -0.012286   0.012286  1.000000 -1.000000  0.028606  -0.028504   \n",
       "sex_M       0.012286  -0.012286 -1.000000  1.000000 -0.028606   0.028504   \n",
       "age        -0.377610   0.377610  0.028606 -0.028606  1.000000   0.146722   \n",
       "\n",
       "           address_U  famsize_GT3  famsize_LE3  Pstatus_A    ...       higher  \\\n",
       "school_GP   0.279797     0.064866    -0.064866   0.045923    ...     0.024150   \n",
       "school_MS  -0.279797    -0.064866     0.064866  -0.045923    ...    -0.024150   \n",
       "sex_F       0.028504     0.089862    -0.089862   0.023443    ...     0.151056   \n",
       "sex_M      -0.028504    -0.089862     0.089862  -0.023443    ...    -0.151056   \n",
       "age        -0.146722    -0.037847     0.037847  -0.029598    ...    -0.209081   \n",
       "\n",
       "           internet  romantic    famrel  freetime     goout      Dalc  \\\n",
       "school_GP  0.133578 -0.060700  0.047926 -0.032988  0.007152 -0.114209   \n",
       "school_MS -0.133578  0.060700 -0.047926  0.032988 -0.007152  0.114209   \n",
       "sex_F     -0.044113  0.102023 -0.058971 -0.238744 -0.075897 -0.268171   \n",
       "sex_M      0.044113 -0.102023  0.058971  0.238744  0.075897  0.268171   \n",
       "age       -0.112094  0.164669  0.053940  0.016434  0.126964  0.131125   \n",
       "\n",
       "               Walc    health  absences  \n",
       "school_GP -0.065087  0.042651  0.088480  \n",
       "school_MS  0.065087 -0.042651 -0.088480  \n",
       "sex_F     -0.274194 -0.143588  0.066962  \n",
       "sex_M      0.274194  0.143588 -0.066962  \n",
       "age        0.117276 -0.062187  0.175230  \n",
       "\n",
       "[5 rows x 48 columns]"
      ]
     },
     "execution_count": 6,
     "metadata": {},
     "output_type": "execute_result"
    }
   ],
   "source": [
    "X_all.corr().head()"
   ]
  },
  {
   "cell_type": "markdown",
   "metadata": {},
   "source": [
    "#### 2) Support Vector Machines(SVM) : \n",
    "2.1) SVM is used in financial industries in financial time series forecasting. (Source : http://www.svms.org/finance/)\n",
    "\n",
    "2.2) Advantages of SVM:\n",
    "* It is a great classsification algorithm that gives a better decision boundary, a boundary with a large margin. This can be seen in the fig. below.\n",
    "![alt text](svm.png \"Title\")\n",
    "\n",
    "* SVM even works well to find a decision boundary if the data is not linearly separable(i.e. can't be fitted with a straight line). This is shown below.\n",
    "![alt text](svm2.png \"Title\")\n",
    "SVM provides us the choice of choosing a non-linear kernel too\n",
    "\n",
    "* Less Overfiting in nature.\n",
    "* Robust to noise\n",
    "* SVM performs well if there is a two-class problem with balanced data set with almost zero or little noise.\n",
    "* It uses a subset of training points in the decision function (called support vectors), so it is also memory efficient\n",
    "\n",
    "2.3) Disadvantages of SVM:\n",
    "* SVMs do not perform well on highly skewed/imbalanced data sets. These are training data sets in which the number of samples that fall in one of the classes far outnumber those that are a member of the other class.\n",
    "* SVMs are also not a good option specially if you have multiple classes. \n",
    "![alt text](svm3.png \"Title\")\n",
    "* SVM is not good for incremental learning\n",
    "* SVM is not desirable for very large datasets. Also, it performs very poorly if the number of features are greater in number than the number of training examples.\n",
    "\n",
    "2.4) SVM is well suited for our dataset because there are only two classes of outcome. Also, the number of features are not so large as well as the training set is relatively small, hence SVM is a good choice.\n",
    "\n",
    "\n"
   ]
  },
  {
   "cell_type": "markdown",
   "metadata": {},
   "source": [
    "#### 3) Ensemble Methods (Random Forest)\n",
    "\n",
    "3.1) Application in industry : Random Forest algorithm is widely used in finance as well as in Machine Fault diagnosis\n",
    "(source: http://link.springer.com/chapter/10.1007%2F978-1-84628-814-2_82 , http://www.scientific.net/AMM.740.947)\n",
    "\n",
    "3.2) Advantages of Ensembles(Random Forest) :\n",
    "* They do not expect linear features or even features that interact linearly.\n",
    "* These algorithms handle very well high dimensional spaces as well as large number of training examples.\n",
    "* RF generates an internal unbiased estimate of the generalization error as the forest building progresses.\n",
    "* RF has an effective method for estimating missing data and maintains accuracy when a large proportion of the data are missing.\n",
    "* Random Forests attempts to mitigate the problems of high variance and high bias by averaging to find a natural balance between the two extremes.\n",
    "\n",
    "![alt text](rf.png \"Title\")\n",
    "\n",
    "\n",
    "* RF perfroms well if the datset is class-balanced i.e.no class contains significantly more samples than the other.\n",
    "\n",
    "3.3) Disadvantages of Ensembles(Random Forest):\n",
    "* RF are prone to 'Overfiting' if the dataset is noisy\n",
    "* As the dataset grows, large number of trees are required, hence complexity of the model increases.\n",
    "* For data including categorical variables with different number of levels, random forests are biased in favor of those attributes with more levels. Therefore, the variable importance scores from random forest are not reliable for this type of data.\n",
    "* RF performs poorly when the number of dimensions is tooo high as compared to the number of training examples. Also, it is not the best suited algorihm when dataset contain categorical features at different levels as it will overfit in this case."
   ]
  },
  {
   "cell_type": "markdown",
   "metadata": {},
   "source": [
    "### Setup\n",
    "Run the code cell below to initialize three helper functions which you can use for training and testing the three supervised learning models you've chosen above. The functions are as follows:\n",
    "- `train_classifier` - takes as input a classifier and training data and fits the classifier to the data.\n",
    "- `predict_labels` - takes as input a fit classifier, features, and a target labeling and makes predictions using the F<sub>1</sub> score.\n",
    "- `train_predict` - takes as input a classifier, and the training and testing data, and performs `train_clasifier` and `predict_labels`.\n",
    " - This function will report the F<sub>1</sub> score for both the training and testing data separately."
   ]
  },
  {
   "cell_type": "code",
   "execution_count": 6,
   "metadata": {
    "collapsed": false
   },
   "outputs": [],
   "source": [
    "def train_classifier(clf, X_train, y_train):\n",
    "    ''' Fits a classifier to the training data. '''\n",
    "    \n",
    "    # Start the clock, train the classifier, then stop the clock\n",
    "    start = time()\n",
    "    clf.fit(X_train, y_train)\n",
    "    end = time()\n",
    "    \n",
    "    # Print the results\n",
    "    print \"Trained model in {:.4f} seconds\".format(end - start)\n",
    "\n",
    "    \n",
    "def predict_labels(clf, features, target):\n",
    "    ''' Makes predictions using a fit classifier based on F1 score. '''\n",
    "    \n",
    "    # Start the clock, make predictions, then stop the clock\n",
    "    start = time()\n",
    "    y_pred = clf.predict(features)\n",
    "    end = time()\n",
    "    \n",
    "    # Print and return results\n",
    "    print \"Made predictions in {:.4f} seconds.\".format(end - start)\n",
    "    return f1_score(target.values, y_pred, pos_label='yes')\n",
    "\n",
    "\n",
    "def train_predict(clf, X_train, y_train, X_test, y_test):\n",
    "    ''' Train and predict using a classifer based on F1 score. '''\n",
    "    \n",
    "    # Indicate the classifier and the training set size\n",
    "    print \"Training a {} using a training set size of {}. . .\".format(clf.__class__.__name__, len(X_train))\n",
    "    \n",
    "    # Train the classifier\n",
    "    train_classifier(clf, X_train, y_train)\n",
    "    \n",
    "    # Print the results of prediction for both training and testing\n",
    "    print \"F1 score for training set: {:.4f}.\".format(predict_labels(clf, X_train, y_train))\n",
    "    print \"F1 score for test set: {:.4f}.\".format(predict_labels(clf, X_test, y_test))"
   ]
  },
  {
   "cell_type": "markdown",
   "metadata": {},
   "source": [
    "### Implementation: Model Performance Metrics\n",
    "With the predefined functions above, you will now import the three supervised learning models of your choice and run the `train_predict` function for each one. Remember that you will need to train and predict on each classifier for three different training set sizes: 100, 200, and 300. Hence, you should expect to have 9 different outputs below — 3 for each model using the varying training set sizes. In the following code cell, you will need to implement the following:\n",
    "- Import the three supervised learning models you've discussed in the previous section.\n",
    "- Initialize the three models and store them in `clf_A`, `clf_B`, and `clf_C`.\n",
    " - Use a `random_state` for each model you use, if provided.\n",
    " - **Note:** Use the default settings for each model — you will tune one specific model in a later section.\n",
    "- Create the different training set sizes to be used to train each model.\n",
    " - *Do not reshuffle and resplit the data! The new training points should be drawn from `X_train` and `y_train`.*\n",
    "- Fit each model with each training set size and make predictions on the test set (9 in total).  \n",
    "**Note:** Three tables are provided after the following code cell which can be used to store your results."
   ]
  },
  {
   "cell_type": "code",
   "execution_count": 8,
   "metadata": {
    "collapsed": false
   },
   "outputs": [
    {
     "name": "stdout",
     "output_type": "stream",
     "text": [
      "--- Trianing size 100 --\n",
      "Training a LogisticRegression using a training set size of 100. . .\n",
      "Trained model in 0.1120 seconds\n",
      "Made predictions in 0.0400 seconds.\n",
      "F1 score for training set: 0.9610.\n",
      "Made predictions in 0.0000 seconds.\n",
      "F1 score for test set: 0.6880.\n",
      "Training a SVC using a training set size of 100. . .\n",
      "Trained model in 0.0240 seconds\n",
      "Made predictions in 0.0010 seconds.\n",
      "F1 score for training set: 0.9048.\n",
      "Made predictions in 0.0010 seconds.\n",
      "F1 score for test set: 0.7248.\n",
      "Training a RandomForestClassifier using a training set size of 100. . .\n",
      "Trained model in 0.0810 seconds\n",
      "Made predictions in 0.0010 seconds.\n",
      "F1 score for training set: 1.0000.\n",
      "Made predictions in 0.0010 seconds.\n",
      "F1 score for test set: 0.6977.\n",
      " \n",
      "--- Training size 200 ---\n",
      "Training a LogisticRegression using a training set size of 200. . .\n",
      "Trained model in 0.0030 seconds\n",
      "Made predictions in 0.0000 seconds.\n",
      "F1 score for training set: 0.8763.\n",
      "Made predictions in 0.0000 seconds.\n",
      "F1 score for test set: 0.7442.\n",
      "Training a SVC using a training set size of 200. . .\n",
      "Trained model in 0.0030 seconds\n",
      "Made predictions in 0.0030 seconds.\n",
      "F1 score for training set: 0.8854.\n",
      "Made predictions in 0.0010 seconds.\n",
      "F1 score for test set: 0.7101.\n",
      "Training a RandomForestClassifier using a training set size of 200. . .\n",
      "Trained model in 0.0330 seconds\n",
      "Made predictions in 0.0010 seconds.\n",
      "F1 score for training set: 0.9929.\n",
      "Made predictions in 0.0020 seconds.\n",
      "F1 score for test set: 0.6508.\n",
      " \n",
      "--- Training size 300 --\n",
      "Training a LogisticRegression using a training set size of 300. . .\n",
      "Trained model in 0.0030 seconds\n",
      "Made predictions in 0.0000 seconds.\n",
      "F1 score for training set: 0.8571.\n",
      "Made predictions in 0.0000 seconds.\n",
      "F1 score for test set: 0.7023.\n",
      "Training a SVC using a training set size of 300. . .\n",
      "Trained model in 0.0070 seconds\n",
      "Made predictions in 0.0050 seconds.\n",
      "F1 score for training set: 0.8758.\n",
      "Made predictions in 0.0010 seconds.\n",
      "F1 score for test set: 0.7246.\n",
      "Training a RandomForestClassifier using a training set size of 300. . .\n",
      "Trained model in 0.0230 seconds\n",
      "Made predictions in 0.0010 seconds.\n",
      "F1 score for training set: 0.9858.\n",
      "Made predictions in 0.0010 seconds.\n",
      "F1 score for test set: 0.6774.\n"
     ]
    }
   ],
   "source": [
    "# TODO: Import the three supervised learning models from sklearn\n",
    "# from sklearn import model_A\n",
    "# from sklearn import model_B\n",
    "# from skearln import model_C\n",
    "\n",
    "from sklearn.linear_model import LogisticRegression\n",
    "from sklearn.svm import SVC\n",
    "from sklearn.ensemble import RandomForestClassifier\n",
    "\n",
    "# TODO: Initialize the three models\n",
    "clf_A = LogisticRegression(random_state=33)\n",
    "clf_B = SVC(random_state=33)\n",
    "clf_C = RandomForestClassifier(random_state =33)\n",
    "\n",
    "# TODO: Set up the training set sizes\n",
    "X_train_100 = X_train[:100]\n",
    "y_train_100 = y_train[:100]\n",
    "\n",
    "X_train_200 = X_train[:200]\n",
    "y_train_200 = y_train[:200]\n",
    "\n",
    "X_train_300 = X_train\n",
    "y_train_300 = y_train\n",
    "\n",
    "# TODO: Execute the 'train_predict' function for each classifier and each training set size\n",
    "# train_predict(clf, X_train, y_train, X_test, y_test)\n",
    "print'--- Trianing size 100 --'\n",
    "train_predict(clf_A, X_train_100, y_train_100, X_test, y_test)\n",
    "train_predict(clf_B, X_train_100, y_train_100, X_test, y_test)\n",
    "train_predict(clf_C, X_train_100, y_train_100, X_test, y_test)\n",
    "print ' '\n",
    "\n",
    "print '--- Training size 200 ---'\n",
    "train_predict(clf_A, X_train_200, y_train_200, X_test, y_test)\n",
    "train_predict(clf_B, X_train_200, y_train_200, X_test, y_test)\n",
    "train_predict(clf_C, X_train_200, y_train_200, X_test, y_test)\n",
    "print ' '\n",
    "\n",
    "print '--- Training size 300 --'\n",
    "train_predict(clf_A, X_train_300, y_train_300, X_test, y_test)\n",
    "train_predict(clf_B, X_train_300, y_train_300, X_test, y_test)\n",
    "train_predict(clf_C, X_train_300, y_train_300, X_test, y_test)"
   ]
  },
  {
   "cell_type": "markdown",
   "metadata": {},
   "source": [
    "### Tabular Results\n",
    "Edit the cell below to see how a table can be designed in [Markdown](https://github.com/adam-p/markdown-here/wiki/Markdown-Cheatsheet#tables). You can record your results from above in the tables provided."
   ]
  },
  {
   "cell_type": "markdown",
   "metadata": {},
   "source": [
    "** Classifer 1 - LogisticRegression**  \n",
    "\n",
    "| Training Set Size | Training Time | Prediction Time (test) | F1 Score (train) | F1 Score (test) |\n",
    "| :---------------: | :---------------------: | :--------------------: | :--------------: | :-------------: |\n",
    "| 100               |         0.1120          |    0.000               |    0.9610        |    0.6880       |\n",
    "| 200               |         0.0030          |    0.000               |    0.8763        |    0.7442       |\n",
    "| 300               |         0.0030          |    0.000               |    0.8571        |    0.7023       |\n",
    "\n",
    "** Classifer 2 - SVM**  \n",
    "\n",
    "| Training Set Size | Training Time | Prediction Time (test) | F1 Score (train) | F1 Score (test) |\n",
    "| :---------------: | :---------------------: | :--------------------: | :--------------: | :-------------: |\n",
    "| 100               |        0.0240           |      0.0010            |    0.9048        |     0.7248      |\n",
    "| 200               |        0.0030           |      0.0010            |    0.8854        |     0.7101      |\n",
    "| 300               |        0.0070           |      0.0010            |    0.8758        |     0.7246      |\n",
    "\n",
    "** Classifer 3 - RandomForest**  \n",
    "\n",
    "| Training Set Size | Training Time | Prediction Time (test) | F1 Score (train) | F1 Score (test) |\n",
    "| :---------------: | :---------------------: | :--------------------: | :--------------: | :-------------: |\n",
    "| 100               |       0.0810            |       0.0010           |    1.0000        |     0.6977      |\n",
    "| 200               |       0.0330            |       0.0020           |    0.9929        |     0.6508      |\n",
    "| 300               |       0.0230            |       0.0010           |    0.9858        |     0.6774      |"
   ]
  },
  {
   "cell_type": "code",
   "execution_count": 49,
   "metadata": {
    "collapsed": false
   },
   "outputs": [
    {
     "data": {
      "image/png": "[encoded data removed]",
      "text/plain": [
       "<matplotlib.figure.Figure at 0xdc2e940>"
      ]
     },
     "metadata": {},
     "output_type": "display_data"
    }
   ],
   "source": [
    "%matplotlib inline\n",
    "import matplotlib.pyplot as plt\n",
    "\n",
    "\n",
    "x = [100,200,300]\n",
    "y = [[0.6880, 0.7248, 0.6977],[0.7442, 0.7101, 0.6508 ],[0.7023, 0.7246, 0.6774]]\n",
    "plt.xlabel('No.of Training examples')\n",
    "plt.ylabel('F1 Score(Test)')\n",
    "plt.plot(x,y )\n",
    "plt.legend(['LR','SVM','RF'],loc=2,fontsize='small',fancybox=None, frameon=False)\n",
    "plt.tick_params(labelright=True)\n",
    "\n",
    "plt.subplot(212)\n",
    "y = [[0.1120, 0.0240, 0.0810],[0.0030, 0.0030, 0.0330],[0.0030, 0.0070, 0.0230]]\n",
    "plt.xlabel('No.of Training examples')\n",
    "plt.ylabel('Training time')\n",
    "plt.plot(x,y )\n",
    "plt.legend(['LR','SVM','RF'],loc=1,fontsize='small',fancybox=None, frameon=False)\n",
    "plt.tick_params(labelright=True)\n",
    "\n",
    "plt.subplots_adjust(hspace=50.0)\n",
    "plt.tight_layout()"
   ]
  },
  {
   "cell_type": "markdown",
   "metadata": {},
   "source": [
    "## Choosing the Best Model\n",
    "In this final section, you will choose from the three supervised learning models the *best* model to use on the student data. You will then perform a grid search optimization for the model over the entire training set (`X_train` and `y_train`) by tuning at least one parameter to improve upon the untuned model's F<sub>1</sub> score. "
   ]
  },
  {
   "cell_type": "markdown",
   "metadata": {},
   "source": [
    "### Question 3 - Choosing the Best Model\n",
    "*Based on the experiments you performed earlier, in one to two paragraphs, explain to the board of supervisors what single model you chose as the best model. Which model is generally the most appropriate based on the available data, limited resources, cost, and performance?*"
   ]
  },
  {
   "cell_type": "markdown",
   "metadata": {},
   "source": [
    "**Answer: **\n",
    "The model selection is mainly dependent on two things :\n",
    "* Training time : As we can see from the graph shown below, that RandomForest performs poorly in terms of training time. The performance of Logistic Regression as well as Support Vector Machines are very close . Hence we can infer that upto this point (not taking F1 score in consideration yet but talking in terms of cost), thatout of the three models, Logistic Regression or SVM should be considered for model selection"
   ]
  },
  {
   "cell_type": "code",
   "execution_count": 58,
   "metadata": {
    "collapsed": false
   },
   "outputs": [
    {
     "data": {
      "image/png": "[encoded data removed]",
      "text/plain": [
       "<matplotlib.figure.Figure at 0xe58a6d8>"
      ]
     },
     "metadata": {},
     "output_type": "display_data"
    }
   ],
   "source": [
    "%matplotlib inline\n",
    "import matplotlib.pyplot as plt\n",
    "import warnings\n",
    "warnings.filterwarnings('ignore')\n",
    "\n",
    "x = [100,200,300]\n",
    "y = [[0.1120, 0.0240, 0.0810],[0.0030, 0.0030, 0.0330],[0.0030, 0.0070, 0.0230]]\n",
    "plt.xlabel('No.of Training examples')\n",
    "plt.ylabel('Training time')\n",
    "plt.plot(x,y )\n",
    "plt.legend(['LR','SVM','RF'],loc=1,fontsize='small',fancybox=None, frameon=False)\n",
    "plt.tick_params(labelright=True)"
   ]
  },
  {
   "cell_type": "markdown",
   "metadata": {},
   "source": [
    "* F1 Score on test set : As we can see from the graph shown below, SVM outperforms both LR and RF in terms of F1 score."
   ]
  },
  {
   "cell_type": "code",
   "execution_count": 53,
   "metadata": {
    "collapsed": false
   },
   "outputs": [
    {
     "data": {
      "image/png": "[encoded data removed]",
      "text/plain": [
       "<matplotlib.figure.Figure at 0xd56a8d0>"
      ]
     },
     "metadata": {},
     "output_type": "display_data"
    }
   ],
   "source": [
    "x = [100,200,300]\n",
    "y = [[0.6880, 0.7248, 0.6977],[0.7442, 0.7101, 0.6508 ],[0.7023, 0.7246, 0.6774]]\n",
    "plt.xlabel('No.of Training examples')\n",
    "plt.ylabel('F1 Score(Test)')\n",
    "plt.plot(x,y )\n",
    "plt.legend(['LR','SVM','RF'],loc=2,fontsize='small',fancybox=None, frameon=False)\n",
    "plt.tick_params(labelright=True)"
   ]
  },
  {
   "cell_type": "markdown",
   "metadata": {},
   "source": [
    "Based upon the two facts stated above, we can say that SVM is the optimal model for our dataset."
   ]
  },
  {
   "cell_type": "markdown",
   "metadata": {},
   "source": [
    "### Question 4 - Model in Layman's Terms\n",
    "*In one to two paragraphs, explain to the board of directors in layman's terms how the final model chosen is supposed to work. Be sure that you are describing the major qualities of the model, such as how the model is trained and how the model makes a prediction. Avoid using advanced mathematical or technical jargon, such as describing equations or discussing the algorithm implementation.*"
   ]
  },
  {
   "cell_type": "markdown",
   "metadata": {},
   "source": [
    "**Answer: **\n",
    "Support Vector Machines(SVM) is a classification algorithm. Supoose there are two types of coloured balls as shown in the figure below which you want to separate by drwaing a decision boundary.\n",
    "![alt text](SVM_2.png \"Title\")\n",
    "\n",
    "Now as you see in the above figure that there can be infinte lines any of which can be used to separate red balls from green balls. Then why SVM? .The thing that differentiates SVM is that SVM will choose the dotted line(shown above in the fig) in order to separate the data. you may ask why ? The answer is that SVM believes in 'large margin'. Better the gap between two classes , better is the decision boundary. That's why SVM will choose the dotted line and that's why  it is also known as 'Large-Margin Classifier'.\n",
    "\n",
    "Now you may argue that if I arrange the balls in such a way that a line cannot be fitted, how then will the SVM classifier will work? How will it separate the balls. \n",
    "Your question is reasonable. Let's look at an example of such type of situations. This is shown below in the fig:\n",
    "![alt text](1.png \"Title\")\n",
    "\n",
    "SVM will still be able to separate the balls. How? Here lies the beauty of SVM. SVM has a special tool known as 'kernels'. This tool allows SVM classifier to take many complex shapes which may not be linear. You can think that with the help of kernels SVM becomes flexible. Hence the balles now will be separated with a plane in the first case and with a circular boundary in the second case as shown in the above fig.\n",
    "\n",
    "\n"
   ]
  },
  {
   "cell_type": "markdown",
   "metadata": {},
   "source": [
    "### Implementation: Model Tuning\n",
    "Fine tune the chosen model. Use grid search (`GridSearchCV`) with at least one important parameter tuned with at least 3 different values. You will need to use the entire training set for this. In the code cell below, you will need to implement the following:\n",
    "- Import [`sklearn.grid_search.gridSearchCV`](http://scikit-learn.org/stable/modules/generated/sklearn.grid_search.GridSearchCV.html) and [`sklearn.metrics.make_scorer`](http://scikit-learn.org/stable/modules/generated/sklearn.metrics.make_scorer.html).\n",
    "- Create a dictionary of parameters you wish to tune for the chosen model.\n",
    " - Example: `parameters = {'parameter' : [list of values]}`.\n",
    "- Initialize the classifier you've chosen and store it in `clf`.\n",
    "- Create the F<sub>1</sub> scoring function using `make_scorer` and store it in `f1_scorer`.\n",
    " - Set the `pos_label` parameter to the correct value!\n",
    "- Perform grid search on the classifier `clf` using `f1_scorer` as the scoring method, and store it in `grid_obj`.\n",
    "- Fit the grid search object to the training data (`X_train`, `y_train`), and store it in `grid_obj`."
   ]
  },
  {
   "cell_type": "code",
   "execution_count": 8,
   "metadata": {
    "collapsed": false
   },
   "outputs": [
    {
     "name": "stdout",
     "output_type": "stream",
     "text": [
      "Made predictions in 0.0150 seconds.\n",
      "Tuned model has a training F1 score of 0.8258.\n",
      "Made predictions in 0.0000 seconds.\n",
      "Tuned model has a testing F1 score of 0.7248.\n"
     ]
    }
   ],
   "source": [
    "# TODO: Import 'GridSearchCV' and 'make_scorer'\n",
    "from sklearn.grid_search import GridSearchCV\n",
    "from sklearn.metrics import make_scorer\n",
    "\n",
    "# TODO: Create the parameters list you wish to tune\n",
    "parameters = {'C' : [0.01, 0.1, 1.0, 10, 100], 'kernel' : ['linear','rbf']}\n",
    "\n",
    "# TODO: Initialize the classifier\n",
    "clf = SVC(random_state=33)\n",
    "\n",
    "# TODO: Make an f1 scoring function using 'make_scorer' \n",
    "f1_scorer = make_scorer(f1_score,pos_label='yes')\n",
    "\n",
    "# TODO: Perform grid search on the classifier using the f1_scorer as the scoring method\n",
    "grid_obj = GridSearchCV(clf, param_grid = parameters, scoring=f1_scorer)\n",
    "\n",
    "# TODO: Fit the grid search object to the training data and find the optimal parameters\n",
    "grid_obj = grid_obj.fit(X_train, y_train)\n",
    "\n",
    "# Get the estimator\n",
    "clf = grid_obj.best_estimator_\n",
    "\n",
    "# Report the final F1 score for training and testing after parameter tuning\n",
    "print \"Tuned model has a training F1 score of {:.4f}.\".format(predict_labels(clf, X_train, y_train))\n",
    "print \"Tuned model has a testing F1 score of {:.4f}.\".format(predict_labels(clf, X_test, y_test))"
   ]
  },
  {
   "cell_type": "markdown",
   "metadata": {},
   "source": [
    "### Question 5 - Final F<sub>1</sub> Score\n",
    "*What is the final model's F<sub>1</sub> score for training and testing? How does that score compare to the untuned model?*"
   ]
  },
  {
   "cell_type": "markdown",
   "metadata": {},
   "source": [
    "**Answer: **\n",
    "The final model's F1 scores are as :\n",
    "* Training F1 score --> 0.8258\n",
    "* Testing F1 score --> 0.7348\n",
    "\n",
    "As compared to the untuned model, the F1 score of tuned model is better(though not that much) for test data. For the untuned model F1 score for test was 0.7246 while after tuning the model achieved a F1 score of 0.7248. This can be observed from the figure shown below :"
   ]
  },
  {
   "cell_type": "code",
   "execution_count": 10,
   "metadata": {
    "collapsed": false
   },
   "outputs": [
    {
     "data": {
      "image/png": "[encoded data removed]",
      "text/plain": [
       "<matplotlib.figure.Figure at 0x93577b8>"
      ]
     },
     "metadata": {},
     "output_type": "display_data"
    }
   ],
   "source": [
    "x = [0,1]\n",
    "y = [[0.8758, 0.8258],[0.7246, 0.7248]]\n",
    "my_xticks  = ['UntunedSVM', 'TunedSVM']\n",
    "plt.xlabel(\"Model\")\n",
    "plt.ylabel(\"F1 score\")\n",
    "plt.xticks(x,my_xticks)\n",
    "plt.plot(x,y)\n",
    "plt.legend(['Training','Testing'], fontsize='small', frameon=False)\n",
    "plt.tick_params(labelright=True)"
   ]
  },
  {
   "cell_type": "markdown",
   "metadata": {},
   "source": [
    "References : Google, http://stackoverflow.com/, http://scikit-learn.org/"
   ]
  },
  {
   "cell_type": "markdown",
   "metadata": {},
   "source": [
    "> **Note**: Once you have completed all of the code implementations and successfully answered each question above, you may finalize your work by exporting the iPython Notebook as an HTML document. You can do this by using the menu above and navigating to  \n",
    "**File -> Download as -> HTML (.html)**. Include the finished document along with this notebook as your submission."
   ]
  }
 ],
 "metadata": {
  "anaconda-cloud": {},
  "kernelspec": {
   "display_name": "Python [conda env:Nanodegree]",
   "language": "python",
   "name": "conda-env-Nanodegree-py"
  },
  "language_info": {
   "codemirror_mode": {
    "name": "ipython",
    "version": 2
   },
   "file_extension": ".py",
   "mimetype": "text/x-python",
   "name": "python",
   "nbconvert_exporter": "python",
   "pygments_lexer": "ipython2",
   "version": "2.7.12"
  }
 },
 "nbformat": 4,
 "nbformat_minor": 0
}
